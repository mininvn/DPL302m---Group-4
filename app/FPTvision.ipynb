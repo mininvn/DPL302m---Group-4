{
 "cells": [
  {
   "attachments": {},
   "cell_type": "markdown",
   "metadata": {},
   "source": [
    "# FACE RECOGNITION BASE MODEL"
   ]
  },
  {
   "attachments": {},
   "cell_type": "markdown",
   "metadata": {},
   "source": [
    "## BASIS THEORY"
   ]
  },
  {
   "cell_type": "code",
   "execution_count": 1,
   "metadata": {},
   "outputs": [],
   "source": [
    "import glob\n",
    "import os\n",
    "\n",
    "import cv2\n",
    "\n",
    "from FPTvision.app import FaceAnalysis\n",
    "from FPTvision.model_zoo import  arcface_onnx"
   ]
  },
  {
   "attachments": {},
   "cell_type": "markdown",
   "metadata": {},
   "source": [
    "## DETECTION"
   ]
  },
  {
   "cell_type": "markdown",
   "metadata": {},
   "source": [
    "Detect On Camera"
   ]
  },
  {
   "cell_type": "code",
   "execution_count": 2,
   "metadata": {},
   "outputs": [
    {
     "name": "stderr",
     "output_type": "stream",
     "text": [
      "c:\\Users\\nguye\\anaconda3\\envs\\FPTForge\\lib\\site-packages\\onnxruntime\\capi\\onnxruntime_inference_collection.py:69: UserWarning: Specified provider 'CUDAExecutionProvider' is not in available provider names.Available providers: 'AzureExecutionProvider, CPUExecutionProvider'\n",
      "  warnings.warn(\n"
     ]
    },
    {
     "name": "stdout",
     "output_type": "stream",
     "text": [
      "Applied providers: ['CPUExecutionProvider'], with options: {'CPUExecutionProvider': {}}\n",
      "set det-size: (640, 480)\n"
     ]
    }
   ],
   "source": [
    "# Khởi tạo mô hình\n",
    "model = FaceAnalysis()\n",
    "model.prepare(ctx_id=0, det_size=(640, 480))\n",
    "\n",
    "# Truy cập webcam\n",
    "cap = cv2.VideoCapture(0)\n",
    "\n",
    "# Thiết lập các thuộc tính cho webcam\n",
    "cap.set(cv2.CAP_PROP_FRAME_WIDTH, 640)  # Thiết lập chiều rộng khung hình\n",
    "cap.set(cv2.CAP_PROP_FRAME_HEIGHT, 480)  # Thiết lập chiều cao khung hình\n",
    "cap.set(cv2.CAP_PROP_FPS, 60)  # Thiết lập tốc độ ghi hình (60 khung hình/giây)\n",
    "\n",
    "while True:\n",
    "    # Đọc khung hình từ webcam\n",
    "    ret, frame = cap.read()\n",
    "    \n",
    "    # Lật ngược khung hình (phản chiếu qua trục dọc)\n",
    "    frame = cv2.flip(frame, 1)\n",
    "\n",
    "    # Dò tìm khuôn mặt\n",
    "    faces = model.get(frame)\n",
    "\n",
    "    for face in faces:\n",
    "        # Hiển thị bouding box (đổi màu bounding box sang màu đỏ)\n",
    "        bbox = face.bbox.astype(int)\n",
    "        cv2.rectangle(frame, (bbox[0], bbox[1]), (bbox[2], bbox[3]), (0, 0, 255), 2)\n",
    "        \n",
    "        # Hiển thị detection score\n",
    "        cv2.putText(frame, f'Score: {face.det_score:.2f}', (bbox[0], bbox[1] - 10), cv2.FONT_HERSHEY_SIMPLEX, 0.9, (0, 0, 255), 2)\n",
    "        \n",
    "        # Hiển thị tọa độ landmark (Mắt, Mũi, Miệng)\n",
    "        landmarks = face.kps\n",
    "        landmark_indices = [0, 1, 2, 3, 4]\n",
    "        for index in landmark_indices:\n",
    "            x, y = landmarks[index]\n",
    "            cv2.circle(frame, (int(x), int(y)), 2, (0, 255, 0), -1)\n",
    "                    \n",
    "    \n",
    "    # Hiển thị kết quả trên cửa sổ OpenCV\n",
    "    cv2.imshow('Face Detection', frame)\n",
    "\n",
    "    # Nhấn 'q' để thoát và đóng camera\n",
    "    if cv2.waitKey(1) & 0xFF == ord('q'):\n",
    "        break\n",
    "\n",
    "# Đóng camera và tắt tất cả cửa sổ OpenCV\n",
    "cap.release()\n",
    "cv2.destroyAllWindows()"
   ]
  },
  {
   "attachments": {},
   "cell_type": "markdown",
   "metadata": {},
   "source": [
    "## RECOGNITION"
   ]
  },
  {
   "cell_type": "markdown",
   "metadata": {},
   "source": [
    "Recognition on camera"
   ]
  },
  {
   "cell_type": "code",
   "execution_count": 1,
   "metadata": {},
   "outputs": [
    {
     "name": "stderr",
     "output_type": "stream",
     "text": [
      "c:\\Users\\nguye\\anaconda3\\envs\\FPTForge\\lib\\site-packages\\onnxruntime\\capi\\onnxruntime_inference_collection.py:69: UserWarning: Specified provider 'CUDAExecutionProvider' is not in available provider names.Available providers: 'AzureExecutionProvider, CPUExecutionProvider'\n",
      "  warnings.warn(\n"
     ]
    },
    {
     "name": "stdout",
     "output_type": "stream",
     "text": [
      "Applied providers: ['CPUExecutionProvider'], with options: {'CPUExecutionProvider': {}}\n",
      "set det-size: (640, 480)\n",
      "input mean and std: 127.5 127.5\n",
      "['FPTvision\\\\alinged\\\\SE171408', 'FPTvision\\\\alinged\\\\SE172383']\n"
     ]
    }
   ],
   "source": [
    "import os\n",
    "import glob\n",
    "import cv2\n",
    "\n",
    "from FPTvision.app import FaceAnalysis\n",
    "from FPTvision.model_zoo import  arcface_onnx\n",
    "\n",
    "# Khởi tạo mô hình\n",
    "Detection = FaceAnalysis()\n",
    "Detection.prepare(ctx_id=0, det_size=(640, 480))\n",
    "\n",
    "Recognition = arcface_onnx.ArcFaceONNX()\n",
    "Recognition.prepare(ctx_id=0)\n",
    "\n",
    "\n",
    "# Tạo từ điển để lưu trữ embedding cho mỗi người\n",
    "embeddings_dict = {}\n",
    "\n",
    "aligned_face_dirs = glob.glob(os.path.join('FPTvision\\\\alinged\\\\', '*'))\n",
    "\n",
    "for face_dir in aligned_face_dirs:\n",
    "    # Lấy tên người từ tên thư mục\n",
    "    person_name = os.path.basename(face_dir)\n",
    "\n",
    "    face_files = glob.glob(os.path.join(face_dir, '*.jpg'))\n",
    "    if len(face_files) > 0:\n",
    "        face_images = [cv2.imread(file) for file in face_files]\n",
    "        \n",
    "        # Trích xuất embeddings cho mỗi bức ảnh\n",
    "        face_embeddings = Recognition.get_feat(face_images)\n",
    "\n",
    "        # Thêm vào từ điển\n",
    "        embeddings_dict[person_name] = face_embeddings \n",
    "\n",
    "# Truy cập webcam\n",
    "cap = cv2.VideoCapture(0)\n",
    "\n",
    "# Thiết lập các thuộc tính cho webcam\n",
    "cap.set(cv2.CAP_PROP_FRAME_WIDTH, 640)  # Thiết lập chiều rộng khung hình\n",
    "cap.set(cv2.CAP_PROP_FRAME_HEIGHT, 480)  # Thiết lập chiều cao khung hình\n",
    "cap.set(cv2.CAP_PROP_FPS, 60)  # Thiết lập tốc độ ghi hình (60 khung hình/giây)\n",
    "\n",
    "while True:\n",
    "    # Đọc khung hình từ webcam\n",
    "    ret, frame = cap.read()\n",
    "    \n",
    "    # Lật ngược khung hình (phản chiếu qua trục dọc)\n",
    "    frame = cv2.flip(frame, 1)\n",
    "\n",
    "    # Dò tìm khuôn mặt\n",
    "    faces = Detection.get(frame)\n",
    "\n",
    "    for face in faces:\n",
    "        \n",
    "        # Hiển thị bouding box (đổi màu bounding box sang màu đỏ)\n",
    "        bbox = face.bbox.astype(int)\n",
    "        cv2.rectangle(frame, (bbox[0], bbox[1]), (bbox[2], bbox[3]), (0, 0, 255), 2)\n",
    "        \n",
    "        # Hiển thị detection score\n",
    "        cv2.putText(frame, f'Score: {face.det_score:.2f}', (bbox[0], bbox[1] - 10), cv2.FONT_HERSHEY_SIMPLEX, 0.9, (0, 0, 255), 2)\n",
    "        \n",
    "        # Hiển thị tọa độ landmark (Mắt, Mũi, Miệng)\n",
    "        landmarks = face.kps\n",
    "        landmark_indices = [0, 1, 2, 3, 4]\n",
    "        for index in landmark_indices:\n",
    "            x, y = landmarks[index]\n",
    "            cv2.circle(frame, (int(x), int(y)), 2, (0, 255, 0), -1)\n",
    "        \n",
    "        # Lấy vector embeding từ khuôn mặt trong frame hình\n",
    "        detected_embedding = Recognition.get(frame, face)\n",
    "        \n",
    "        #! Lấy ra tên khuôn mặt có xác suất cao nhất\n",
    "        identify_name = \"\"\n",
    "        max_similarity = 0.0\n",
    "        for person_name, embeddings in embeddings_dict.items():\n",
    "            similarity = 0.0\n",
    "            for embedding in embeddings:\n",
    "                similarity = max(similarity, Recognition.compute_sim(detected_embedding, embedding))\n",
    "            if similarity > max_similarity:\n",
    "                identify_name = person_name\n",
    "                max_similarity = similarity\n",
    "                \n",
    "        # In tên khuôn mặt vào openCV\n",
    "        cv2.putText(frame, identify_name, (bbox[2] - 10, bbox[3]), cv2.FONT_HERSHEY_SIMPLEX, 0.9, (242, 111, 33), 2)\n",
    "        \n",
    "    # Hiển thị kết quả trên cửa sổ OpenCV\n",
    "    cv2.imshow('Face Detection', frame)\n",
    "\n",
    "    # Nhấn 'q' để thoát và đóng camera\n",
    "    if cv2.waitKey(1) & 0xFF == ord('q'):\n",
    "        break\n",
    "\n",
    "# Đóng camera và tắt tất cả cửa sổ OpenCV\n",
    "cap.release()\n",
    "cv2.destroyAllWindows()"
   ]
  },
  {
   "cell_type": "markdown",
   "metadata": {},
   "source": [
    "# Convert Embeding Vector"
   ]
  },
  {
   "cell_type": "code",
   "execution_count": 3,
   "metadata": {},
   "outputs": [
    {
     "name": "stdout",
     "output_type": "stream",
     "text": [
      "input mean and std: 127.5 127.5\n",
      "['FPTvision\\\\alinged\\\\SE171408', 'FPTvision\\\\alinged\\\\SE172383']\n"
     ]
    }
   ],
   "source": [
    "import glob\n",
    "import os\n",
    "import cv2\n",
    "import json\n",
    "\n",
    "Recognition = arcface_onnx.ArcFaceONNX()\n",
    "Recognition.prepare(ctx_id=0)\n",
    "\n",
    "# Tạo một từ điển để lưu trữ embedding cho mỗi người\n",
    "embeddings_dict = {}\n",
    "\n",
    "aligned_face_dirs = glob.glob(os.path.join('FPTvision\\\\alinged\\\\', '*'))\n",
    "print(aligned_face_dirs)\n",
    "\n",
    "for face_dir in aligned_face_dirs:\n",
    "    # Lấy tên người từ tên thư mục\n",
    "    person_name = os.path.basename(face_dir)\n",
    "\n",
    "    face_files = glob.glob(os.path.join(face_dir, '*.jpg'))\n",
    "    if len(face_files) > 0:\n",
    "        face_images = [cv2.imread(file) for file in face_files]\n",
    "\n",
    "        # Trích xuất embeddings cho mỗi bức ảnh\n",
    "        face_embeddings = Recognition.get_feat(face_images)\n",
    "\n",
    "        # Thêm vào từ điển theo cấu trúc mong muốn\n",
    "        person_data = {}\n",
    "        for i, embedding in enumerate(face_embeddings):\n",
    "            vector_name = f'vector {i + 1}'\n",
    "            person_data[vector_name] = embedding.tolist()\n",
    "        \n",
    "        embeddings_dict[person_name] = person_data\n",
    "\n",
    "# Lưu từ điển vào tệp JSON\n",
    "with open('embeddings.json', 'w') as json_file:\n",
    "    json.dump(embeddings_dict, json_file)\n"
   ]
  },
  {
   "cell_type": "markdown",
   "metadata": {},
   "source": [
    "## Face Recognition With JSON"
   ]
  },
  {
   "cell_type": "code",
   "execution_count": 1,
   "metadata": {},
   "outputs": [
    {
     "name": "stderr",
     "output_type": "stream",
     "text": [
      "c:\\Users\\nguye\\anaconda3\\envs\\FPTForge\\lib\\site-packages\\onnxruntime\\capi\\onnxruntime_inference_collection.py:69: UserWarning: Specified provider 'CUDAExecutionProvider' is not in available provider names.Available providers: 'AzureExecutionProvider, CPUExecutionProvider'\n",
      "  warnings.warn(\n"
     ]
    },
    {
     "name": "stdout",
     "output_type": "stream",
     "text": [
      "Applied providers: ['CPUExecutionProvider'], with options: {'CPUExecutionProvider': {}}\n",
      "set det-size: (640, 480)\n",
      "input mean and std: 127.5 127.5\n"
     ]
    }
   ],
   "source": [
    "import os\n",
    "import glob\n",
    "import cv2\n",
    "import json\n",
    "import numpy as np\n",
    "\n",
    "from FPTvision.app import FaceAnalysis\n",
    "from FPTvision.model_zoo import arcface_onnx\n",
    "\n",
    "# Khởi tạo mô hình\n",
    "Detection = FaceAnalysis()\n",
    "Detection.prepare(ctx_id=0, det_size=(640, 480))\n",
    "\n",
    "Recognition = arcface_onnx.ArcFaceONNX(model_file='./FPTvision/models/Recognition/model.onnx')\n",
    "Recognition.prepare(ctx_id=0)\n",
    "\n",
    "# Đọc tệp JSON chứa vector embedding\n",
    "with open('embeddings.json', 'r') as json_file:\n",
    "    embeddings_dict = json.load(json_file)\n",
    "\n",
    "# Truy cập webcam\n",
    "cap = cv2.VideoCapture(0)\n",
    "\n",
    "# Thiết lập các thuộc tính cho webcam\n",
    "cap.set(cv2.CAP_PROP_FRAME_WIDTH, 640)  # Thiết lập chiều rộng khung hình\n",
    "cap.set(cv2.CAP_PROP_FRAME_HEIGHT, 480)  # Thiết lập chiều cao khung hình\n",
    "cap.set(cv2.CAP_PROP_FPS, 60)  # Thiết lập tốc độ ghi hình (60 khung hình/giây)\n",
    "\n",
    "# Đặt trọng số cho mỗi vector embedding\n",
    "WEIGHTS = [0.2, 0.2, 0.2, 0.2, 0.2]  # Có thể thay đổi giá trị này\n",
    "\n",
    "while True:\n",
    "    # Đọc khung hình từ webcam\n",
    "    ret, frame = cap.read()\n",
    "    \n",
    "    # Lật ngược khung hình (phản chiếu qua trục dọc)\n",
    "    frame = cv2.flip(frame, 1)\n",
    "\n",
    "    # Dò tìm khuôn mặt\n",
    "    faces = Detection.get(frame)\n",
    "\n",
    "    for face in faces:\n",
    "        # Hiển thị bounding box (đổi màu bounding box sang màu đỏ)\n",
    "        bbox = face.bbox.astype(int)\n",
    "        cv2.rectangle(frame, (bbox[0], bbox[1]), (bbox[2], bbox[3]), (0, 0, 255), 2)\n",
    "        \n",
    "        # Hiển thị detection score\n",
    "        cv2.putText(frame, f'Score: {face.det_score:.2f}', (bbox[0], bbox[1] - 10), cv2.FONT_HERSHEY_SIMPLEX, 0.9, (0, 0, 255), 2)\n",
    "        \n",
    "        # Hiển thị tọa độ landmark (Mắt, Mũi, Miệng)\n",
    "        landmarks = face.kps\n",
    "        landmark_indices = [0, 1, 2, 3, 4]\n",
    "        for index in landmark_indices:\n",
    "            x, y = landmarks[index]\n",
    "            cv2.circle(frame, (int(x), int(y)), 2, (0, 255, 0), -1)\n",
    "        \n",
    "        # Lấy vector embedding từ khuôn mặt trong frame hình\n",
    "        detected_embedding = Recognition.get(frame, face)\n",
    "\n",
    "        # Lấy ra tên khuôn mặt có xác suất cao nhất\n",
    "        identify_name = \"\"\n",
    "        max_similarity = 0.0\n",
    "\n",
    "        for person_name, embeddings in embeddings_dict.items():\n",
    "            weighted_similarity = 0.0\n",
    "            for i, (vector_name, vector) in enumerate(embeddings.items()):\n",
    "                similarity = Recognition.compute_sim(np.array(vector), detected_embedding)\n",
    "                weighted_similarity += WEIGHTS[i] * similarity\n",
    "            \n",
    "            if weighted_similarity > max_similarity:\n",
    "                identify_name = person_name\n",
    "                max_similarity = weighted_similarity\n",
    "\n",
    "        # In tên khuôn mặt vào OpenCV\n",
    "        cv2.putText(frame, identify_name, (bbox[2] - 10, bbox[3]), cv2.FONT_HERSHEY_SIMPLEX, 0.9, (242, 111, 33), 2)\n",
    "\n",
    "    # Hiển thị kết quả trên cửa sổ OpenCV\n",
    "    cv2.imshow('Face Detection', frame)\n",
    "\n",
    "    # Nhấn 'q' để thoát và đóng camera\n",
    "    if cv2.waitKey(1) & 0xFF == ord('q'):\n",
    "        break\n",
    "\n",
    "# Đóng camera và tắt tất cả cửa sổ OpenCV\n",
    "cap.release()\n",
    "cv2.destroyAllWindows()"
   ]
  }
 ],
 "metadata": {
  "kernelspec": {
   "display_name": "FPT",
   "language": "python",
   "name": "python3"
  },
  "language_info": {
   "codemirror_mode": {
    "name": "ipython",
    "version": 3
   },
   "file_extension": ".py",
   "mimetype": "text/x-python",
   "name": "python",
   "nbconvert_exporter": "python",
   "pygments_lexer": "ipython3",
   "version": "3.8.18"
  },
  "orig_nbformat": 4
 },
 "nbformat": 4,
 "nbformat_minor": 2
}
